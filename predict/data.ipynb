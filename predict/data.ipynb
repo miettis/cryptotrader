{
 "cells": [
  {
   "cell_type": "code",
   "execution_count": null,
   "metadata": {},
   "outputs": [],
   "source": [
    "import datetime\n",
    "from joblib import dump\n",
    "from lightgbm import LGBMClassifier\n",
    "import pandas as pd\n",
    "from sklearn.linear_model import BayesianRidge\n",
    "from sklearn.metrics import accuracy_score \n",
    "from sklearn.model_selection import train_test_split\n",
    "from sklearn.pipeline import make_pipeline\n",
    "from sklearn.preprocessing import MinMaxScaler\n",
    "from data import data\n",
    "\n",
    "host = 'localhost'\n",
    "database = 'binance_1'\n",
    "db = data.data(host, database, True)\n",
    "result = db.train_classifier(5, datetime.datetime(2021, 1, 1), datetime.datetime(2024, 1, 1), 'C:/Code/github/cryptotrader/predict/test')\n",
    "display(result)"
   ]
  },
  {
   "cell_type": "code",
   "execution_count": null,
   "metadata": {},
   "outputs": [],
   "source": [
    "from joblib import dump, load\n",
    "from lightgbm import LGBMClassifier\n",
    "from pandas import DataFrame\n",
    "from sklearn.model_selection import train_test_split\n",
    "from sklearn.pipeline import make_pipeline\n",
    "from sklearn.preprocessing import MinMaxScaler\n",
    "from data_local import get_data\n",
    "from data import data\n",
    "from sklearn.metrics import accuracy_score \n",
    "from datetime import datetime, timedelta\n",
    "\n",
    "crypto_id=5\n",
    "start_time=datetime(2021, 1, 1)\n",
    "end_time=datetime(2024, 1, 1)\n",
    "\n",
    "foo = data.data('localhost','binance_1')\n",
    "\n",
    "df = foo.get_data_columns_prepared(crypto_id, start_time.isoformat(), end_time.isoformat())\n",
    "\n",
    "display(df.describe())\n",
    "nan_count = df.isna().sum().sort_values(ascending = False).head(50)\n",
    "for index, value in nan_count.iteritems():\n",
    "    print(index, value)\n",
    "\n",
    "df.dropna(inplace=True)\n",
    "\n",
    "display(df.describe())\n",
    "nan_count = df.isna().sum().sort_values(ascending = False).head(50)\n",
    "for index, value in nan_count.iteritems():\n",
    "    print(index, value)\n"
   ]
  },
  {
   "cell_type": "code",
   "execution_count": null,
   "metadata": {},
   "outputs": [],
   "source": []
  },
  {
   "cell_type": "code",
   "execution_count": null,
   "metadata": {},
   "outputs": [],
   "source": [
    "from joblib import dump, load\n",
    "from lightgbm import LGBMClassifier\n",
    "from pandas import DataFrame\n",
    "from sklearn.model_selection import train_test_split\n",
    "from sklearn.pipeline import make_pipeline\n",
    "from sklearn.preprocessing import MinMaxScaler\n",
    "from data_local import get_data\n",
    "from data import data\n",
    "from sklearn.metrics import accuracy_score \n",
    "\n",
    "foo = data.data('localhost','binance_1')\n",
    "df = foo.get_data_prepared(5,'2021-01-01','2024-02-01')\n",
    "\n",
    "X, y = foo.prepare_data(df, 'price_return_day_rank6')\n",
    "\n",
    "#X_train, X_test, y_train, y_test = train_test_split(X, y, test_size=0.3, random_state=42, shuffle=False)\n",
    "\n",
    "pipeline = load('SOL.joblib')\n",
    "y_pred = pipeline.predict(X) \n",
    "  \n",
    "# calculating accuracy score \n",
    "accuracy_score = accuracy_score(y_pred, y) \n",
    "print('accuracy score : ',accuracy_score)\n",
    "\n",
    "merged = y.copy()\n",
    "merged['pred'] = y_pred\n",
    "\n",
    "display(merged.sample(50))\n",
    "\n",
    "# generate random string\n",
    "import random\n",
    "import string\n",
    "import time\n",
    "import datetime\n",
    "import pytz\n",
    "import requests\n",
    "import json\n"
   ]
  },
  {
   "cell_type": "code",
   "execution_count": null,
   "metadata": {},
   "outputs": [],
   "source": [
    "from data import data\n",
    "foo = data.data('localhost','binance_1')\n",
    "display(foo.future_columns)\n",
    "display(foo.ignored_columns)"
   ]
  }
 ],
 "metadata": {
  "kernelspec": {
   "display_name": "Python 3",
   "language": "python",
   "name": "python3"
  },
  "language_info": {
   "codemirror_mode": {
    "name": "ipython",
    "version": 3
   },
   "file_extension": ".py",
   "mimetype": "text/x-python",
   "name": "python",
   "nbconvert_exporter": "python",
   "pygments_lexer": "ipython3",
   "version": "3.11.2"
  }
 },
 "nbformat": 4,
 "nbformat_minor": 2
}
